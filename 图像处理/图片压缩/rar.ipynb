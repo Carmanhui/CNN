{
 "cells": [
  {
   "cell_type": "code",
   "execution_count": null,
   "metadata": {},
   "outputs": [],
   "source": [
    "#coding:utf-8\n",
    "import Image  \n",
    "import os\n",
    "\n",
    "#图片压缩批处理  \n",
    "def compressImage(srcPath,dstPath):  \n",
    "    for filename in os.listdir(srcPath):  \n",
    "        #如果不存在目的目录则创建一个，保持层级结构\n",
    "        if not os.path.exists(dstPath):\n",
    "                os.makedirs(dstPath)        \n",
    "\n",
    "        #拼接完整的文件或文件夹路径\n",
    "        srcFile=os.path.join(srcPath,filename)\n",
    "        dstFile=os.path.join(dstPath,filename)\n",
    "        print srcFile\n",
    "        print dstFile\n",
    "\n",
    "        #如果是文件就处理\n",
    "        if os.path.isfile(srcFile):     \n",
    "            #打开原图片缩小后保存，可以用if srcFile.endswith(\".jpg\")或者split，splitext等函数等针对特定文件压缩\n",
    "            sImg=Image.open(srcFile)  \n",
    "            w,h=sImg.size  \n",
    "            print w,h\n",
    "            dImg=sImg.resize((w/2,h/2),Image.ANTIALIAS)  #设置压缩尺寸和选项，注意尺寸要用括号\n",
    "            dImg.save(dstFile) #也可以用srcFile原路径保存,或者更改后缀保存，save这个函数后面可以加压缩编码选项JPEG之类的\n",
    "            print dstFile+\" compressed succeeded\"\n",
    "\n",
    "        #如果是文件夹就递归\n",
    "        if os.path.isdir(srcFile):\n",
    "            compressImage(srcFile,dstFile)\n",
    "\n",
    "if __name__=='__main__':  \n",
    "    compressImage(\"./src\",\"./dst\")\n"
   ]
  }
 ],
 "metadata": {
  "kernelspec": {
   "display_name": "Python 3",
   "language": "python",
   "name": "python3"
  },
  "language_info": {
   "codemirror_mode": {
    "name": "ipython",
    "version": 3
   },
   "file_extension": ".py",
   "mimetype": "text/x-python",
   "name": "python",
   "nbconvert_exporter": "python",
   "pygments_lexer": "ipython3",
   "version": "3.6.5"
  }
 },
 "nbformat": 4,
 "nbformat_minor": 2
}
