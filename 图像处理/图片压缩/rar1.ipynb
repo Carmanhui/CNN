{
 "cells": [
  {
   "cell_type": "code",
   "execution_count": 1,
   "metadata": {},
   "outputs": [
    {
     "name": "stdout",
     "output_type": "stream",
     "text": [
      "[]\n",
      "[]\n"
     ]
    }
   ],
   "source": [
    "import math\n",
    "import os\n",
    "from PIL import Image\n",
    " \n",
    "# 功能：博客图片生成缩略图，1280横屏压缩，1000竖屏压缩\n",
    "# 参数：图片名称\n",
    "# 返回：OK，保存同名文件在thumb目录下\n",
    "def JfzBlogImgThumb(ImgName):\n",
    "    im = Image.open(ImgName)\n",
    "    print('格式',im.format, '，分辨率',im.size, '，色彩',im.mode)\n",
    "    if max(im.size[0], im.size[1]) > 1000:\n",
    "        if im.size[0] > im.size[1]:\n",
    "            im.thumbnail((1280, 1280))\n",
    "        else:\n",
    "            im.thumbnail((1000, 1000))\n",
    "        im.save('thumb\\\\'+ImgName, 'JPEG', quality=90)\n",
    "    return 'OK'\n",
    " \n",
    "# JfzBlogImgThumb('1.jpg')\n",
    "# JfzBlogImgThumb('2.jpg')\n",
    " \n",
    "# 列出当前目录所有jpg文件\n",
    "lst=os.listdir(os.getcwd())\n",
    "imgname = [c for c in lst if os.path.isfile(c) and c.endswith('.jpg')]\n",
    "print(imgname)\n",
    " \n",
    "# 全处理\n",
    "OutCheck = map(JfzBlogImgThumb,imgname)\n",
    "print(list(OutCheck))\n"
   ]
  },
  {
   "cell_type": "code",
   "execution_count": null,
   "metadata": {},
   "outputs": [],
   "source": []
  }
 ],
 "metadata": {
  "kernelspec": {
   "display_name": "Python 3",
   "language": "python",
   "name": "python3"
  },
  "language_info": {
   "codemirror_mode": {
    "name": "ipython",
    "version": 3
   },
   "file_extension": ".py",
   "mimetype": "text/x-python",
   "name": "python",
   "nbconvert_exporter": "python",
   "pygments_lexer": "ipython3",
   "version": "3.6.5"
  }
 },
 "nbformat": 4,
 "nbformat_minor": 2
}
