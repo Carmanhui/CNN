{
 "cells": [
  {
   "cell_type": "code",
   "execution_count": 1,
   "metadata": {},
   "outputs": [
    {
     "name": "stderr",
     "output_type": "stream",
     "text": [
      "C:\\Users\\Liu\\Anaconda3\\lib\\site-packages\\h5py\\__init__.py:36: FutureWarning: Conversion of the second argument of issubdtype from `float` to `np.floating` is deprecated. In future, it will be treated as `np.float64 == np.dtype(float).type`.\n",
      "  from ._conv import register_converters as _register_converters\n",
      "Using TensorFlow backend.\n"
     ]
    },
    {
     "name": "stdout",
     "output_type": "stream",
     "text": [
      "['BLACK_CHE_0_1030.jpg', 'BLACK_CHE_0_1042.jpg', 'BLACK_CHE_0_1066.jpg', 'BLACK_CHE_0_1098.jpg', 'BLACK_CHE_0_1139.jpg', 'BLACK_CHE_0_1164.jpg', 'BLACK_CHE_0_1241.jpg', 'BLACK_CHE_0_1292.jpg', 'BLACK_CHE_0_1321.jpg', 'BLACK_CHE_0_1327.jpg', 'BLACK_CHE_0_1338.jpg', 'BLACK_CHE_0_1361.jpg', 'BLACK_CHE_0_1440.jpg', 'BLACK_CHE_0_1476.jpg', 'BLACK_CHE_0_1482.jpg', 'BLACK_CHE_0_1484.jpg', 'BLACK_CHE_0_1526.jpg', 'BLACK_CHE_0_1548.jpg', 'BLACK_CHE_0_1558.jpg', 'BLACK_CHE_0_1561.jpg', 'BLACK_CHE_0_1667.jpg', 'BLACK_CHE_0_1675.jpg', 'BLACK_CHE_0_1687.jpg', 'BLACK_CHE_0_1725.jpg', 'BLACK_CHE_0_1746.jpg', 'BLACK_CHE_0_1764.jpg', 'BLACK_CHE_0_1800.jpg', 'BLACK_CHE_0_1924.jpg', 'BLACK_CHE_0_1970.jpg', 'BLACK_CHE_0_2071.jpg', 'BLACK_CHE_0_208.jpg', 'BLACK_CHE_0_2086.jpg', 'BLACK_CHE_0_2115.jpg', 'BLACK_CHE_0_2151.jpg', 'BLACK_CHE_0_2313.jpg', 'BLACK_CHE_0_2448.jpg', 'BLACK_CHE_0_2455.jpg', 'BLACK_CHE_0_2464.jpg', 'BLACK_CHE_0_2480.jpg', 'BLACK_CHE_0_2506.jpg', 'BLACK_CHE_0_2566.jpg', 'BLACK_CHE_0_257.jpg', 'BLACK_CHE_0_2633.jpg', 'BLACK_CHE_0_2680.jpg', 'BLACK_CHE_0_2691.jpg', 'BLACK_CHE_0_2745.jpg', 'BLACK_CHE_0_2802.jpg', 'BLACK_CHE_0_2840.jpg', 'BLACK_CHE_0_2987.jpg', 'BLACK_CHE_0_2993.jpg', 'BLACK_CHE_0_3008.jpg', 'BLACK_CHE_0_3057.jpg', 'BLACK_CHE_0_3109.jpg', 'BLACK_CHE_0_3131.jpg', 'BLACK_CHE_0_3174.jpg', 'BLACK_CHE_0_3250.jpg', 'BLACK_CHE_0_3285.jpg', 'BLACK_CHE_0_3292.jpg', 'BLACK_CHE_0_3304.jpg', 'BLACK_CHE_0_3339.jpg', 'BLACK_CHE_0_3379.jpg', 'BLACK_CHE_0_3401.jpg', 'BLACK_CHE_0_3456.jpg', 'BLACK_CHE_0_3525.jpg', 'BLACK_CHE_0_3550.jpg', 'BLACK_CHE_0_3586.jpg', 'BLACK_CHE_0_3669.jpg', 'BLACK_CHE_0_3673.jpg', 'BLACK_CHE_0_3710.jpg', 'BLACK_CHE_0_3732.jpg', 'BLACK_CHE_0_374.jpg', 'BLACK_CHE_0_3843.jpg', 'BLACK_CHE_0_3845.jpg', 'BLACK_CHE_0_3866.jpg', 'BLACK_CHE_0_3871.jpg', 'BLACK_CHE_0_4004.jpg', 'BLACK_CHE_0_4040.jpg', 'BLACK_CHE_0_4121.jpg', 'BLACK_CHE_0_4124.jpg', 'BLACK_CHE_0_4160.jpg', 'BLACK_CHE_0_4178.jpg', 'BLACK_CHE_0_4282.jpg', 'BLACK_CHE_0_433.jpg', 'BLACK_CHE_0_4335.jpg', 'BLACK_CHE_0_4409.jpg', 'BLACK_CHE_0_4485.jpg', 'BLACK_CHE_0_4495.jpg', 'BLACK_CHE_0_4518.jpg', 'BLACK_CHE_0_4537.jpg', 'BLACK_CHE_0_4606.jpg', 'BLACK_CHE_0_4611.jpg', 'BLACK_CHE_0_4618.jpg', 'BLACK_CHE_0_4634.jpg', 'BLACK_CHE_0_464.jpg', 'BLACK_CHE_0_4708.jpg', 'BLACK_CHE_0_4721.jpg', 'BLACK_CHE_0_4745.jpg', 'BLACK_CHE_0_4751.jpg', 'BLACK_CHE_0_4814.jpg', 'BLACK_CHE_0_4819.jpg', 'BLACK_CHE_0_4830.jpg', 'BLACK_CHE_0_4861.jpg', 'BLACK_CHE_0_4863.jpg', 'BLACK_CHE_0_4880.jpg', 'BLACK_CHE_0_4949.jpg', 'BLACK_CHE_0_5003.jpg', 'BLACK_CHE_0_5013.jpg', 'BLACK_CHE_0_5043.jpg', 'BLACK_CHE_0_5057.jpg', 'BLACK_CHE_0_5115.jpg', 'BLACK_CHE_0_5143.jpg', 'BLACK_CHE_0_515.jpg', 'BLACK_CHE_0_5153.jpg', 'BLACK_CHE_0_516.jpg', 'BLACK_CHE_0_5193.jpg', 'BLACK_CHE_0_5201.jpg', 'BLACK_CHE_0_5239.jpg', 'BLACK_CHE_0_5243.jpg', 'BLACK_CHE_0_5310.jpg', 'BLACK_CHE_0_5337.jpg', 'BLACK_CHE_0_5411.jpg', 'BLACK_CHE_0_5473.jpg', 'BLACK_CHE_0_5490.jpg', 'BLACK_CHE_0_5586.jpg', 'BLACK_CHE_0_5594.jpg', 'BLACK_CHE_0_5705.jpg', 'BLACK_CHE_0_5786.jpg', 'BLACK_CHE_0_5825.jpg', 'BLACK_CHE_0_5860.jpg', 'BLACK_CHE_0_5882.jpg', 'BLACK_CHE_0_5961.jpg', 'BLACK_CHE_0_5988.jpg', 'BLACK_CHE_0_6015.jpg', 'BLACK_CHE_0_6046.jpg', 'BLACK_CHE_0_6048.jpg', 'BLACK_CHE_0_6069.jpg', 'BLACK_CHE_0_6077.jpg', 'BLACK_CHE_0_6094.jpg', 'BLACK_CHE_0_6110.jpg', 'BLACK_CHE_0_6124.jpg', 'BLACK_CHE_0_6183.jpg', 'BLACK_CHE_0_6215.jpg', 'BLACK_CHE_0_6219.jpg', 'BLACK_CHE_0_6220.jpg', 'BLACK_CHE_0_6250.jpg', 'BLACK_CHE_0_6311.jpg', 'BLACK_CHE_0_6313.jpg', 'BLACK_CHE_0_6355.jpg', 'BLACK_CHE_0_6391.jpg', 'BLACK_CHE_0_6420.jpg', 'BLACK_CHE_0_6434.jpg', 'BLACK_CHE_0_6458.jpg', 'BLACK_CHE_0_650.jpg', 'BLACK_CHE_0_6505.jpg', 'BLACK_CHE_0_6579.jpg', 'BLACK_CHE_0_6587.jpg', 'BLACK_CHE_0_6593.jpg', 'BLACK_CHE_0_6671.jpg', 'BLACK_CHE_0_6731.jpg', 'BLACK_CHE_0_6743.jpg', 'BLACK_CHE_0_6772.jpg', 'BLACK_CHE_0_6786.jpg', 'BLACK_CHE_0_68.jpg', 'BLACK_CHE_0_6826.jpg', 'BLACK_CHE_0_6837.jpg', 'BLACK_CHE_0_6940.jpg', 'BLACK_CHE_0_7036.jpg', 'BLACK_CHE_0_7047.jpg', 'BLACK_CHE_0_7118.jpg', 'BLACK_CHE_0_7119.jpg', 'BLACK_CHE_0_7146.jpg', 'BLACK_CHE_0_7184.jpg', 'BLACK_CHE_0_7346.jpg', 'BLACK_CHE_0_7412.jpg', 'BLACK_CHE_0_7427.jpg', 'BLACK_CHE_0_7463.jpg', 'BLACK_CHE_0_7510.jpg', 'BLACK_CHE_0_7549.jpg', 'BLACK_CHE_0_7566.jpg', 'BLACK_CHE_0_757.jpg', 'BLACK_CHE_0_7583.jpg', 'BLACK_CHE_0_7585.jpg', 'BLACK_CHE_0_765.jpg', 'BLACK_CHE_0_7675.jpg', 'BLACK_CHE_0_7722.jpg', 'BLACK_CHE_0_7751.jpg', 'BLACK_CHE_0_7760.jpg', 'BLACK_CHE_0_7776.jpg', 'BLACK_CHE_0_7787.jpg', 'BLACK_CHE_0_7794.jpg', 'BLACK_CHE_0_782.jpg', 'BLACK_CHE_0_7852.jpg', 'BLACK_CHE_0_7866.jpg', 'BLACK_CHE_0_7909.jpg', 'BLACK_CHE_0_791.jpg', 'BLACK_CHE_0_7955.jpg', 'BLACK_CHE_0_7985.jpg', 'BLACK_CHE_0_7992.jpg', 'BLACK_CHE_0_8012.jpg', 'BLACK_CHE_0_8036.jpg', 'BLACK_CHE_0_8149.jpg', 'BLACK_CHE_0_8167.jpg', 'BLACK_CHE_0_8203.jpg', 'BLACK_CHE_0_8215.jpg', 'BLACK_CHE_0_8298.jpg', 'BLACK_CHE_0_836.jpg', 'BLACK_CHE_0_8494.jpg', 'BLACK_CHE_0_8504.jpg', 'BLACK_CHE_0_8576.jpg', 'BLACK_CHE_0_8635.jpg', 'BLACK_CHE_0_8697.jpg', 'BLACK_CHE_0_8761.jpg', 'BLACK_CHE_0_8765.jpg', 'BLACK_CHE_0_8772.jpg', 'BLACK_CHE_0_8778.jpg', 'BLACK_CHE_0_878.jpg', 'BLACK_CHE_0_8783.jpg', 'BLACK_CHE_0_8785.jpg', 'BLACK_CHE_0_8798.jpg', 'BLACK_CHE_0_8809.jpg', 'BLACK_CHE_0_881.jpg', 'BLACK_CHE_0_8837.jpg', 'BLACK_CHE_0_8970.jpg', 'BLACK_CHE_0_9016.jpg', 'BLACK_CHE_0_9074.jpg', 'BLACK_CHE_0_9083.jpg', 'BLACK_CHE_0_9088.jpg', 'BLACK_CHE_0_9130.jpg', 'BLACK_CHE_0_9155.jpg', 'BLACK_CHE_0_9165.jpg', 'BLACK_CHE_0_9167.jpg', 'BLACK_CHE_0_9184.jpg', 'BLACK_CHE_0_9285.jpg', 'BLACK_CHE_0_9301.jpg', 'BLACK_CHE_0_9308.jpg', 'BLACK_CHE_0_9379.jpg', 'BLACK_CHE_0_9393.jpg', 'BLACK_CHE_0_9435.jpg', 'BLACK_CHE_0_9487.jpg', 'BLACK_CHE_0_957.jpg', 'BLACK_CHE_0_9595.jpg', 'BLACK_CHE_0_9624.jpg', 'BLACK_CHE_0_9731.jpg', 'BLACK_CHE_0_9732.jpg', 'BLACK_CHE_0_9825.jpg', 'BLACK_CHE_0_9840.jpg', 'BLACK_CHE_0_9862.jpg', 'BLACK_CHE_0_9881.jpg', 'BLACK_CHE_0_9995.jpg', 'IMG_20181220_145035.jpg', 'IMG_20181220_145038.jpg', 'IMG_20181220_145040.jpg', 'IMG_20181220_145043.jpg', 'IMG_20181220_145047.jpg', 'IMG_20181220_145050.jpg', 'IMG_20181220_145053.jpg', 'IMG_20181220_145057.jpg', 'IMG_20181220_145100.jpg', 'IMG_20181220_145106.jpg', 'IMG_20181220_145109.jpg', 'IMG_20181220_145114.jpg', 'IMG_20181220_145116.jpg', 'IMG_20181220_145124.jpg', 'IMG_20181220_145125.jpg', 'IMG_20181220_145126.jpg', 'IMG_20181220_145130.jpg', 'IMG_20181220_145133.jpg', 'IMG_20181220_145136.jpg', 'IMG_20181220_145139.jpg', 'IMG_20181220_145143.jpg', 'IMG_20181220_145145.jpg', 'IMG_20181220_145147.jpg']\n"
     ]
    }
   ],
   "source": [
    "import os\n",
    "from keras.preprocessing.image import ImageDataGenerator, array_to_img, img_to_array, load_img\n",
    " \n",
    "datagen = ImageDataGenerator(\n",
    "        rotation_range=40,\n",
    "        width_shift_range=1,\n",
    "        height_shift_range=1,\n",
    "        shear_range=0.2,\n",
    "        zoom_range=0.2,\n",
    "        horizontal_flip=False,\n",
    "        fill_mode='nearest')\n",
    "\n",
    "path = './data/BLACK_CHE'\n",
    "imagelist = os.listdir(path)\n",
    "print(imagelist)\n",
    "for index in imagelist:\n",
    "    imagename = path + '/' + index\n",
    "    img = load_img(imagename)  # this is a PIL image\n",
    "    x = img_to_array(img)  # this is a Numpy array with shape (3, 150, 150)\n",
    "    x = x.reshape((1,) + x.shape)  # this is a Numpy array with shape (1, 3, 150, 150)\n",
    "\n",
    "    # the .flow() command below generates batches of randomly transformed images\n",
    "    # and saves the results to the `preview/` directory\n",
    "    i = 0\n",
    "    for batch in datagen.flow(x, batch_size=1, save_to_dir=path, save_prefix='BLACK_CHE', save_format='jpg'):\n",
    "        i += 1\n",
    "        if i > 3:\n",
    "            break  # otherwise the generator would loop indefinitely\n",
    " "
   ]
  },
  {
   "cell_type": "code",
   "execution_count": null,
   "metadata": {},
   "outputs": [],
   "source": []
  }
 ],
 "metadata": {
  "kernelspec": {
   "display_name": "Python 3",
   "language": "python",
   "name": "python3"
  },
  "language_info": {
   "codemirror_mode": {
    "name": "ipython",
    "version": 3
   },
   "file_extension": ".py",
   "mimetype": "text/x-python",
   "name": "python",
   "nbconvert_exporter": "python",
   "pygments_lexer": "ipython3",
   "version": "3.6.5"
  }
 },
 "nbformat": 4,
 "nbformat_minor": 2
}
