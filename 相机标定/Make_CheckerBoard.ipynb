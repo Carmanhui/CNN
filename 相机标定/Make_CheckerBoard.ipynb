{
 "cells": [
  {
   "cell_type": "code",
   "execution_count": 10,
   "metadata": {},
   "outputs": [
    {
     "data": {
      "text/plain": [
       "-1"
      ]
     },
     "execution_count": 10,
     "metadata": {},
     "output_type": "execute_result"
    }
   ],
   "source": [
    "from cv2 import *\n",
    "import numpy\n",
    "\n",
    "unitSize = 50\n",
    "rows = 28*unitSize\n",
    "cols = 20*unitSize\n",
    "\n",
    "img = numpy.zeros((rows,cols),numpy.uint8)\n",
    "white = True\n",
    "for i in range(0,rows,unitSize):\n",
    "    for j in range(0,cols,unitSize):\n",
    "        if white:\n",
    "            roi = img[i:i+unitSize,j:j+unitSize]\n",
    "            roi += 255\n",
    "        white = not white\n",
    "    white=not white\n",
    "\n",
    "name = \"chess.png\"\n",
    "imwrite(name,img)\n",
    "imshow(name,img)\n",
    "waitKey(0)"
   ]
  },
  {
   "cell_type": "code",
   "execution_count": null,
   "metadata": {},
   "outputs": [],
   "source": []
  }
 ],
 "metadata": {
  "kernelspec": {
   "display_name": "Python 3",
   "language": "python",
   "name": "python3"
  },
  "language_info": {
   "codemirror_mode": {
    "name": "ipython",
    "version": 3
   },
   "file_extension": ".py",
   "mimetype": "text/x-python",
   "name": "python",
   "nbconvert_exporter": "python",
   "pygments_lexer": "ipython3",
   "version": "3.6.5"
  }
 },
 "nbformat": 4,
 "nbformat_minor": 2
}
