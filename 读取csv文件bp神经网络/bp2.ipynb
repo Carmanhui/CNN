{
 "cells": [
  {
   "cell_type": "code",
   "execution_count": 12,
   "metadata": {},
   "outputs": [
    {
     "name": "stderr",
     "output_type": "stream",
     "text": [
      "C:\\Users\\Liu\\Anaconda3\\lib\\site-packages\\h5py\\__init__.py:36: FutureWarning: Conversion of the second argument of issubdtype from `float` to `np.floating` is deprecated. In future, it will be treated as `np.float64 == np.dtype(float).type`.\n",
      "  from ._conv import register_converters as _register_converters\n",
      "Using TensorFlow backend.\n"
     ]
    }
   ],
   "source": [
    "import keras\n",
    "from keras.models import Sequential \n",
    "from keras.layers import Dense \n",
    "import numpy as np\n",
    "import matplotlib.pyplot\n",
    "%matplotlib inline"
   ]
  },
  {
   "cell_type": "code",
   "execution_count": 35,
   "metadata": {},
   "outputs": [],
   "source": [
    "data_file = open('mnist_test.csv','r')\n",
    "data_list = data_file.readlines()\n",
    "data_file.close()"
   ]
  },
  {
   "cell_type": "code",
   "execution_count": 84,
   "metadata": {},
   "outputs": [
    {
     "name": "stdout",
     "output_type": "stream",
     "text": [
      "10000\n"
     ]
    }
   ],
   "source": [
    "inputs_list = []\n",
    "for data in data_list:\n",
    "    all_values = data.split(',')\n",
    "    inputs = all_values[1:11]\n",
    "#     print()\n",
    "    inputs_list.append(inputs)\n",
    "# print(inputs_list)\n",
    "inputs_list = np.array(inputs_list, dtype = int)\n",
    "print(len(inputs_list))"
   ]
  },
  {
   "cell_type": "code",
   "execution_count": 83,
   "metadata": {},
   "outputs": [
    {
     "name": "stdout",
     "output_type": "stream",
     "text": [
      "10000\n"
     ]
    }
   ],
   "source": [
    "outputs_list = []\n",
    "for data in data_list:\n",
    "    all_values = data\n",
    "    outputs = all_values[:1]\n",
    "#     print()\n",
    "    outputs_list.append(outputs)\n",
    "# print(outputs_list)\n",
    "outputs_list = np.array(outputs_list, dtype = int)\n",
    "print(len(outputs_list))"
   ]
  },
  {
   "cell_type": "code",
   "execution_count": 88,
   "metadata": {},
   "outputs": [
    {
     "name": "stdout",
     "output_type": "stream",
     "text": [
      "_________________________________________________________________\n",
      "Layer (type)                 Output Shape              Param #   \n",
      "=================================================================\n",
      "layer1 (Dense)               (None, 12)                132       \n",
      "_________________________________________________________________\n",
      "layer2 (Dense)               (None, 1)                 13        \n",
      "=================================================================\n",
      "Total params: 145\n",
      "Trainable params: 145\n",
      "Non-trainable params: 0\n",
      "_________________________________________________________________\n"
     ]
    }
   ],
   "source": [
    "simple_model=Sequential()\n",
    "simple_model.add(Dense(12,input_shape=(len(inputs_list[0]),),activation='relu',name='layer1'))\n",
    "simple_model.add(Dense(1,activation='sigmoid',name='layer2'))\n",
    "\n",
    "simple_model.compile(optimizer='sgd',loss='mean_squared_error')\n",
    "simple_model.summary()"
   ]
  },
  {
   "cell_type": "code",
   "execution_count": 95,
   "metadata": {},
   "outputs": [
    {
     "name": "stdout",
     "output_type": "stream",
     "text": [
      "Epoch 1/1000\n",
      "10000/10000 [==============================] - 0s 28us/step - loss: 20.2738\n",
      "Epoch 2/1000\n",
      "10000/10000 [==============================] - 0s 35us/step - loss: 20.2709\n",
      "Epoch 3/1000\n",
      "10000/10000 [==============================] - 0s 25us/step - loss: 20.2686\n",
      "Epoch 4/1000\n",
      "10000/10000 [==============================] - 0s 25us/step - loss: 20.2666\n",
      "Epoch 5/1000\n",
      "10000/10000 [==============================] - 0s 26us/step - loss: 20.2649\n",
      "Epoch 6/1000\n",
      "10000/10000 [==============================] - 0s 45us/step - loss: 20.2634\n",
      "Epoch 7/1000\n",
      "10000/10000 [==============================] - 0s 28us/step - loss: 20.2621\n",
      "Epoch 8/1000\n",
      "10000/10000 [==============================] - 0s 27us/step - loss: 20.2609\n",
      "Epoch 9/1000\n",
      "10000/10000 [==============================] - 0s 28us/step - loss: 20.2599\n",
      "Epoch 10/1000\n",
      "10000/10000 [==============================] - 0s 36us/step - loss: 20.2589\n",
      "Epoch 11/1000\n",
      "10000/10000 [==============================] - 0s 26us/step - loss: 20.2581\n",
      "Epoch 12/1000\n",
      "10000/10000 [==============================] - 0s 28us/step - loss: 20.2574\n",
      "Epoch 13/1000\n",
      "10000/10000 [==============================] - 0s 43us/step - loss: 20.2567\n",
      "Epoch 14/1000\n",
      "10000/10000 [==============================] - 0s 32us/step - loss: 20.2561\n",
      "Epoch 15/1000\n",
      "10000/10000 [==============================] - 0s 28us/step - loss: 20.2555\n",
      "Epoch 16/1000\n",
      "10000/10000 [==============================] - 0s 29us/step - loss: 20.2550\n",
      "Epoch 17/1000\n",
      "10000/10000 [==============================] - 0s 34us/step - loss: 20.2545\n",
      "Epoch 18/1000\n",
      "10000/10000 [==============================] - 0s 32us/step - loss: 20.2540\n",
      "Epoch 19/1000\n",
      "10000/10000 [==============================] - 0s 28us/step - loss: 20.2536\n",
      "Epoch 20/1000\n",
      "10000/10000 [==============================] - 0s 40us/step - loss: 20.2532\n",
      "Epoch 21/1000\n",
      "10000/10000 [==============================] - 0s 32us/step - loss: 20.2528\n",
      "Epoch 22/1000\n",
      "10000/10000 [==============================] - 0s 26us/step - loss: 20.2525\n",
      "Epoch 23/1000\n",
      "10000/10000 [==============================] - 0s 26us/step - loss: 20.2522\n",
      "Epoch 24/1000\n",
      "10000/10000 [==============================] - 0s 42us/step - loss: 20.2519\n",
      "Epoch 25/1000\n",
      "10000/10000 [==============================] - 0s 33us/step - loss: 20.2516\n",
      "Epoch 26/1000\n",
      "10000/10000 [==============================] - 0s 30us/step - loss: 20.2513\n",
      "Epoch 27/1000\n",
      "10000/10000 [==============================] - 0s 42us/step - loss: 20.2511\n",
      "Epoch 28/1000\n",
      "10000/10000 [==============================] - 0s 33us/step - loss: 20.2508\n",
      "Epoch 29/1000\n",
      "10000/10000 [==============================] - 0s 27us/step - loss: 20.2506\n",
      "Epoch 30/1000\n",
      "10000/10000 [==============================] - 0s 43us/step - loss: 20.2504\n",
      "Epoch 31/1000\n",
      "10000/10000 [==============================] - 0s 34us/step - loss: 20.2502\n",
      "Epoch 32/1000\n",
      "10000/10000 [==============================] - 0s 35us/step - loss: 20.2500\n",
      "Epoch 33/1000\n",
      "10000/10000 [==============================] - 0s 44us/step - loss: 20.2498 0s\n",
      "Epoch 34/1000\n",
      "10000/10000 [==============================] - 0s 44us/step - loss: 20.2496\n",
      "Epoch 35/1000\n",
      "10000/10000 [==============================] - 0s 34us/step - loss: 20.2495\n",
      "Epoch 36/1000\n",
      "10000/10000 [==============================] - 0s 37us/step - loss: 20.2493\n",
      "Epoch 37/1000\n",
      "10000/10000 [==============================] - 1s 51us/step - loss: 20.2491\n",
      "Epoch 38/1000\n",
      "10000/10000 [==============================] - 0s 39us/step - loss: 20.2490\n",
      "Epoch 39/1000\n",
      "10000/10000 [==============================] - 0s 41us/step - loss: 20.2489\n",
      "Epoch 40/1000\n",
      "10000/10000 [==============================] - 0s 39us/step - loss: 20.2487\n",
      "Epoch 41/1000\n",
      "10000/10000 [==============================] - 0s 37us/step - loss: 20.2486\n",
      "Epoch 42/1000\n",
      "10000/10000 [==============================] - 0s 29us/step - loss: 20.2485\n",
      "Epoch 43/1000\n",
      "10000/10000 [==============================] - 0s 47us/step - loss: 20.2483\n",
      "Epoch 44/1000\n",
      "10000/10000 [==============================] - 0s 37us/step - loss: 20.2482\n",
      "Epoch 45/1000\n",
      "10000/10000 [==============================] - 0s 33us/step - loss: 20.2481\n",
      "Epoch 46/1000\n",
      "10000/10000 [==============================] - 0s 35us/step - loss: 20.2480\n",
      "Epoch 47/1000\n",
      "10000/10000 [==============================] - 0s 32us/step - loss: 20.2479\n",
      "Epoch 48/1000\n",
      "10000/10000 [==============================] - 0s 27us/step - loss: 20.2478\n",
      "Epoch 49/1000\n",
      "10000/10000 [==============================] - 0s 37us/step - loss: 20.2477\n",
      "Epoch 50/1000\n",
      "10000/10000 [==============================] - 0s 34us/step - loss: 20.2476\n",
      "Epoch 51/1000\n",
      "10000/10000 [==============================] - 0s 27us/step - loss: 20.2475\n",
      "Epoch 52/1000\n",
      "10000/10000 [==============================] - 0s 29us/step - loss: 20.2474\n",
      "Epoch 53/1000\n",
      "10000/10000 [==============================] - 0s 48us/step - loss: 20.2474\n",
      "Epoch 54/1000\n",
      "10000/10000 [==============================] - 0s 32us/step - loss: 20.2473\n",
      "Epoch 55/1000\n",
      "10000/10000 [==============================] - 0s 25us/step - loss: 20.2472\n",
      "Epoch 56/1000\n",
      "10000/10000 [==============================] - 0s 27us/step - loss: 20.2471\n",
      "Epoch 57/1000\n",
      "10000/10000 [==============================] - 0s 37us/step - loss: 20.2470\n",
      "Epoch 58/1000\n",
      "10000/10000 [==============================] - 0s 37us/step - loss: 20.2470\n",
      "Epoch 59/1000\n",
      "10000/10000 [==============================] - 0s 41us/step - loss: 20.2469\n",
      "Epoch 60/1000\n",
      "10000/10000 [==============================] - 0s 38us/step - loss: 20.2468\n",
      "Epoch 61/1000\n",
      "10000/10000 [==============================] - 0s 28us/step - loss: 20.2468\n",
      "Epoch 62/1000\n",
      " 3136/10000 [========>.....................] - ETA: 0s - loss: 20.3138"
     ]
    },
    {
     "ename": "KeyboardInterrupt",
     "evalue": "",
     "output_type": "error",
     "traceback": [
      "\u001b[1;31m---------------------------------------------------------------------------\u001b[0m",
      "\u001b[1;31mKeyboardInterrupt\u001b[0m                         Traceback (most recent call last)",
      "\u001b[1;32m<ipython-input-95-7d136c77ffe0>\u001b[0m in \u001b[0;36m<module>\u001b[1;34m()\u001b[0m\n\u001b[1;32m----> 1\u001b[1;33m \u001b[0msimple_model\u001b[0m\u001b[1;33m.\u001b[0m\u001b[0mfit\u001b[0m\u001b[1;33m(\u001b[0m\u001b[0minputs_list\u001b[0m\u001b[1;33m,\u001b[0m\u001b[0moutputs_list\u001b[0m\u001b[1;33m,\u001b[0m\u001b[0mepochs\u001b[0m\u001b[1;33m=\u001b[0m\u001b[1;36m1000\u001b[0m\u001b[1;33m)\u001b[0m\u001b[1;33m\u001b[0m\u001b[0m\n\u001b[0m",
      "\u001b[1;32m~\\Anaconda3\\lib\\site-packages\\keras\\engine\\training.py\u001b[0m in \u001b[0;36mfit\u001b[1;34m(self, x, y, batch_size, epochs, verbose, callbacks, validation_split, validation_data, shuffle, class_weight, sample_weight, initial_epoch, steps_per_epoch, validation_steps, **kwargs)\u001b[0m\n\u001b[0;32m   1040\u001b[0m                                         \u001b[0minitial_epoch\u001b[0m\u001b[1;33m=\u001b[0m\u001b[0minitial_epoch\u001b[0m\u001b[1;33m,\u001b[0m\u001b[1;33m\u001b[0m\u001b[0m\n\u001b[0;32m   1041\u001b[0m                                         \u001b[0msteps_per_epoch\u001b[0m\u001b[1;33m=\u001b[0m\u001b[0msteps_per_epoch\u001b[0m\u001b[1;33m,\u001b[0m\u001b[1;33m\u001b[0m\u001b[0m\n\u001b[1;32m-> 1042\u001b[1;33m                                         validation_steps=validation_steps)\n\u001b[0m\u001b[0;32m   1043\u001b[0m \u001b[1;33m\u001b[0m\u001b[0m\n\u001b[0;32m   1044\u001b[0m     def evaluate(self, x=None, y=None,\n",
      "\u001b[1;32m~\\Anaconda3\\lib\\site-packages\\keras\\engine\\training_arrays.py\u001b[0m in \u001b[0;36mfit_loop\u001b[1;34m(model, f, ins, out_labels, batch_size, epochs, verbose, callbacks, val_f, val_ins, shuffle, callback_metrics, initial_epoch, steps_per_epoch, validation_steps)\u001b[0m\n\u001b[0;32m    197\u001b[0m                     \u001b[0mins_batch\u001b[0m\u001b[1;33m[\u001b[0m\u001b[0mi\u001b[0m\u001b[1;33m]\u001b[0m \u001b[1;33m=\u001b[0m \u001b[0mins_batch\u001b[0m\u001b[1;33m[\u001b[0m\u001b[0mi\u001b[0m\u001b[1;33m]\u001b[0m\u001b[1;33m.\u001b[0m\u001b[0mtoarray\u001b[0m\u001b[1;33m(\u001b[0m\u001b[1;33m)\u001b[0m\u001b[1;33m\u001b[0m\u001b[0m\n\u001b[0;32m    198\u001b[0m \u001b[1;33m\u001b[0m\u001b[0m\n\u001b[1;32m--> 199\u001b[1;33m                 \u001b[0mouts\u001b[0m \u001b[1;33m=\u001b[0m \u001b[0mf\u001b[0m\u001b[1;33m(\u001b[0m\u001b[0mins_batch\u001b[0m\u001b[1;33m)\u001b[0m\u001b[1;33m\u001b[0m\u001b[0m\n\u001b[0m\u001b[0;32m    200\u001b[0m                 \u001b[1;32mif\u001b[0m \u001b[1;32mnot\u001b[0m \u001b[0misinstance\u001b[0m\u001b[1;33m(\u001b[0m\u001b[0mouts\u001b[0m\u001b[1;33m,\u001b[0m \u001b[0mlist\u001b[0m\u001b[1;33m)\u001b[0m\u001b[1;33m:\u001b[0m\u001b[1;33m\u001b[0m\u001b[0m\n\u001b[0;32m    201\u001b[0m                     \u001b[0mouts\u001b[0m \u001b[1;33m=\u001b[0m \u001b[1;33m[\u001b[0m\u001b[0mouts\u001b[0m\u001b[1;33m]\u001b[0m\u001b[1;33m\u001b[0m\u001b[0m\n",
      "\u001b[1;32m~\\Anaconda3\\lib\\site-packages\\keras\\backend\\tensorflow_backend.py\u001b[0m in \u001b[0;36m__call__\u001b[1;34m(self, inputs)\u001b[0m\n\u001b[0;32m   2659\u001b[0m                 \u001b[1;32mreturn\u001b[0m \u001b[0mself\u001b[0m\u001b[1;33m.\u001b[0m\u001b[0m_legacy_call\u001b[0m\u001b[1;33m(\u001b[0m\u001b[0minputs\u001b[0m\u001b[1;33m)\u001b[0m\u001b[1;33m\u001b[0m\u001b[0m\n\u001b[0;32m   2660\u001b[0m \u001b[1;33m\u001b[0m\u001b[0m\n\u001b[1;32m-> 2661\u001b[1;33m             \u001b[1;32mreturn\u001b[0m \u001b[0mself\u001b[0m\u001b[1;33m.\u001b[0m\u001b[0m_call\u001b[0m\u001b[1;33m(\u001b[0m\u001b[0minputs\u001b[0m\u001b[1;33m)\u001b[0m\u001b[1;33m\u001b[0m\u001b[0m\n\u001b[0m\u001b[0;32m   2662\u001b[0m         \u001b[1;32melse\u001b[0m\u001b[1;33m:\u001b[0m\u001b[1;33m\u001b[0m\u001b[0m\n\u001b[0;32m   2663\u001b[0m             \u001b[1;32mif\u001b[0m \u001b[0mpy_any\u001b[0m\u001b[1;33m(\u001b[0m\u001b[0mis_tensor\u001b[0m\u001b[1;33m(\u001b[0m\u001b[0mx\u001b[0m\u001b[1;33m)\u001b[0m \u001b[1;32mfor\u001b[0m \u001b[0mx\u001b[0m \u001b[1;32min\u001b[0m \u001b[0minputs\u001b[0m\u001b[1;33m)\u001b[0m\u001b[1;33m:\u001b[0m\u001b[1;33m\u001b[0m\u001b[0m\n",
      "\u001b[1;32m~\\Anaconda3\\lib\\site-packages\\keras\\backend\\tensorflow_backend.py\u001b[0m in \u001b[0;36m_call\u001b[1;34m(self, inputs)\u001b[0m\n\u001b[0;32m   2629\u001b[0m                                 \u001b[0msymbol_vals\u001b[0m\u001b[1;33m,\u001b[0m\u001b[1;33m\u001b[0m\u001b[0m\n\u001b[0;32m   2630\u001b[0m                                 session)\n\u001b[1;32m-> 2631\u001b[1;33m         \u001b[0mfetched\u001b[0m \u001b[1;33m=\u001b[0m \u001b[0mself\u001b[0m\u001b[1;33m.\u001b[0m\u001b[0m_callable_fn\u001b[0m\u001b[1;33m(\u001b[0m\u001b[1;33m*\u001b[0m\u001b[0marray_vals\u001b[0m\u001b[1;33m)\u001b[0m\u001b[1;33m\u001b[0m\u001b[0m\n\u001b[0m\u001b[0;32m   2632\u001b[0m         \u001b[1;32mreturn\u001b[0m \u001b[0mfetched\u001b[0m\u001b[1;33m[\u001b[0m\u001b[1;33m:\u001b[0m\u001b[0mlen\u001b[0m\u001b[1;33m(\u001b[0m\u001b[0mself\u001b[0m\u001b[1;33m.\u001b[0m\u001b[0moutputs\u001b[0m\u001b[1;33m)\u001b[0m\u001b[1;33m]\u001b[0m\u001b[1;33m\u001b[0m\u001b[0m\n\u001b[0;32m   2633\u001b[0m \u001b[1;33m\u001b[0m\u001b[0m\n",
      "\u001b[1;32m~\\Anaconda3\\lib\\site-packages\\tensorflow\\python\\client\\session.py\u001b[0m in \u001b[0;36m__call__\u001b[1;34m(self, *args)\u001b[0m\n\u001b[0;32m   1449\u001b[0m         \u001b[1;32mif\u001b[0m \u001b[0mself\u001b[0m\u001b[1;33m.\u001b[0m\u001b[0m_session\u001b[0m\u001b[1;33m.\u001b[0m\u001b[0m_created_with_new_api\u001b[0m\u001b[1;33m:\u001b[0m\u001b[1;33m\u001b[0m\u001b[0m\n\u001b[0;32m   1450\u001b[0m           return tf_session.TF_SessionRunCallable(\n\u001b[1;32m-> 1451\u001b[1;33m               self._session._session, self._handle, args, status, None)\n\u001b[0m\u001b[0;32m   1452\u001b[0m         \u001b[1;32melse\u001b[0m\u001b[1;33m:\u001b[0m\u001b[1;33m\u001b[0m\u001b[0m\n\u001b[0;32m   1453\u001b[0m           return tf_session.TF_DeprecatedSessionRunCallable(\n",
      "\u001b[1;31mKeyboardInterrupt\u001b[0m: "
     ]
    }
   ],
   "source": [
    "simple_model.fit(inputs_list,outputs_list,epochs=1000)"
   ]
  },
  {
   "cell_type": "code",
   "execution_count": 94,
   "metadata": {},
   "outputs": [
    {
     "name": "stdout",
     "output_type": "stream",
     "text": [
      "[0 0 0 0 0 0 0 0 0 0]\n"
     ]
    },
    {
     "data": {
      "text/plain": [
       "array([[0.9951885]], dtype=float32)"
      ]
     },
     "execution_count": 94,
     "metadata": {},
     "output_type": "execute_result"
    }
   ],
   "source": [
    "simple_model.predict(inputs_list[:1])"
   ]
  },
  {
   "cell_type": "code",
   "execution_count": null,
   "metadata": {},
   "outputs": [],
   "source": []
  }
 ],
 "metadata": {
  "kernelspec": {
   "display_name": "Python 3",
   "language": "python",
   "name": "python3"
  },
  "language_info": {
   "codemirror_mode": {
    "name": "ipython",
    "version": 3
   },
   "file_extension": ".py",
   "mimetype": "text/x-python",
   "name": "python",
   "nbconvert_exporter": "python",
   "pygments_lexer": "ipython3",
   "version": "3.6.5"
  }
 },
 "nbformat": 4,
 "nbformat_minor": 2
}
